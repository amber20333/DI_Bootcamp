{
 "cells": [
  {
   "cell_type": "code",
   "execution_count": 1,
   "id": "c96906ff",
   "metadata": {},
   "outputs": [],
   "source": [
    "import numpy as np"
   ]
  },
  {
   "cell_type": "markdown",
   "id": "d3f4c5b2",
   "metadata": {},
   "source": [
    "question 2"
   ]
  },
  {
   "cell_type": "code",
   "execution_count": 118,
   "id": "daa91740",
   "metadata": {},
   "outputs": [
    {
     "data": {
      "text/plain": [
       "'1.23.4'"
      ]
     },
     "execution_count": 118,
     "metadata": {},
     "output_type": "execute_result"
    }
   ],
   "source": [
    "numpy.version.version"
   ]
  },
  {
   "cell_type": "markdown",
   "id": "89850d70",
   "metadata": {},
   "source": [
    "question 3   Create a vector of zeros with the size 10"
   ]
  },
  {
   "cell_type": "code",
   "execution_count": 7,
   "id": "43756ef1",
   "metadata": {},
   "outputs": [],
   "source": [
    "x = np.zeros(10)"
   ]
  },
  {
   "cell_type": "code",
   "execution_count": 8,
   "id": "2c254a18",
   "metadata": {},
   "outputs": [
    {
     "data": {
      "text/plain": [
       "array([0., 0., 0., 0., 0., 0., 0., 0., 0., 0.])"
      ]
     },
     "execution_count": 8,
     "metadata": {},
     "output_type": "execute_result"
    }
   ],
   "source": [
    "x"
   ]
  },
  {
   "cell_type": "markdown",
   "id": "423db077",
   "metadata": {},
   "source": [
    "4.  How to find the memory size of any array"
   ]
  },
  {
   "cell_type": "code",
   "execution_count": 9,
   "id": "ad597d9a",
   "metadata": {},
   "outputs": [
    {
     "name": "stdout",
     "output_type": "stream",
     "text": [
      "Size of the array:  10\n"
     ]
    }
   ],
   "source": [
    "print(\"Size of the array: \",\n",
    "      x.size)\n",
    " "
   ]
  },
  {
   "cell_type": "code",
   "execution_count": 117,
   "id": "41f78339",
   "metadata": {},
   "outputs": [
    {
     "name": "stdout",
     "output_type": "stream",
     "text": [
      "[0 0 0 0 0 0 0 0 0 0]\n"
     ]
    },
    {
     "data": {
      "text/plain": [
       "40"
      ]
     },
     "execution_count": 117,
     "metadata": {},
     "output_type": "execute_result"
    }
   ],
   "source": [
    "x=np.array([0., 0., 0., 0., 0., 0., 0., 0., 0., 0.],dtype='int32')\n",
    "print(x)\n",
    "\n",
    "x.nbytes"
   ]
  },
  {
   "cell_type": "markdown",
   "id": "676c585a",
   "metadata": {},
   "source": [
    "question 5"
   ]
  },
  {
   "cell_type": "code",
   "execution_count": 10,
   "id": "70f29be3",
   "metadata": {},
   "outputs": [
    {
     "ename": "TypeError",
     "evalue": "add() takes from 2 to 3 positional arguments but 1 were given",
     "output_type": "error",
     "traceback": [
      "\u001b[1;31m--------------------------------------------------------------------------\u001b[0m",
      "\u001b[1;31mTypeError\u001b[0m                                Traceback (most recent call last)",
      "Cell \u001b[1;32mIn [10], line 1\u001b[0m\n\u001b[1;32m----> 1\u001b[0m \u001b[43mnumpy\u001b[49m\u001b[38;5;241;43m.\u001b[39;49m\u001b[43madd\u001b[49m\u001b[43m(\u001b[49m\u001b[43mx\u001b[49m\u001b[43m)\u001b[49m\n",
      "\u001b[1;31mTypeError\u001b[0m: add() takes from 2 to 3 positional arguments but 1 were given"
     ]
    }
   ],
   "source": [
    "numpy.add(x)"
   ]
  },
  {
   "cell_type": "markdown",
   "id": "42ee9f48",
   "metadata": {},
   "source": [
    "question 6"
   ]
  },
  {
   "cell_type": "code",
   "execution_count": 11,
   "id": "ce253a22",
   "metadata": {},
   "outputs": [],
   "source": [
    "x[4] = 5"
   ]
  },
  {
   "cell_type": "code",
   "execution_count": 12,
   "id": "1ca01a52",
   "metadata": {},
   "outputs": [
    {
     "data": {
      "text/plain": [
       "array([0., 0., 0., 0., 5., 0., 0., 0., 0., 0.])"
      ]
     },
     "execution_count": 12,
     "metadata": {},
     "output_type": "execute_result"
    }
   ],
   "source": [
    "x"
   ]
  },
  {
   "cell_type": "code",
   "execution_count": 119,
   "id": "426f17c6",
   "metadata": {},
   "outputs": [
    {
     "name": "stdout",
     "output_type": "stream",
     "text": [
      "[0 0 0 0 5 0 0 0 0 0]\n"
     ]
    }
   ],
   "source": [
    "a= np.zeros(10,dtype='int32')\n",
    "a[4]=5\n",
    "print(a)"
   ]
  },
  {
   "cell_type": "markdown",
   "id": "148dca78",
   "metadata": {},
   "source": [
    "question 7"
   ]
  },
  {
   "cell_type": "code",
   "execution_count": 13,
   "id": "061ae92f",
   "metadata": {},
   "outputs": [],
   "source": [
    "y = numpy.arange(10 , 49)"
   ]
  },
  {
   "cell_type": "code",
   "execution_count": 14,
   "id": "5ed5bfd5",
   "metadata": {},
   "outputs": [
    {
     "data": {
      "text/plain": [
       "array([10, 11, 12, 13, 14, 15, 16, 17, 18, 19, 20, 21, 22, 23, 24, 25, 26,\n",
       "       27, 28, 29, 30, 31, 32, 33, 34, 35, 36, 37, 38, 39, 40, 41, 42, 43,\n",
       "       44, 45, 46, 47, 48])"
      ]
     },
     "execution_count": 14,
     "metadata": {},
     "output_type": "execute_result"
    }
   ],
   "source": [
    "y"
   ]
  },
  {
   "cell_type": "markdown",
   "id": "94c55ffd",
   "metadata": {},
   "source": [
    "question 8"
   ]
  },
  {
   "cell_type": "code",
   "execution_count": 15,
   "id": "f0b0a9d8",
   "metadata": {},
   "outputs": [
    {
     "data": {
      "text/plain": [
       "array([48, 47, 46, 45, 44, 43, 42, 41, 40, 39, 38, 37, 36, 35, 34, 33, 32,\n",
       "       31, 30, 29, 28, 27, 26, 25, 24, 23, 22, 21, 20, 19, 18, 17, 16, 15,\n",
       "       14, 13, 12, 11, 10])"
      ]
     },
     "execution_count": 15,
     "metadata": {},
     "output_type": "execute_result"
    }
   ],
   "source": [
    "y[::-1]"
   ]
  },
  {
   "cell_type": "markdown",
   "id": "19cd26ab",
   "metadata": {},
   "source": [
    "question 9"
   ]
  },
  {
   "cell_type": "code",
   "execution_count": 132,
   "id": "25fb10a0",
   "metadata": {},
   "outputs": [
    {
     "name": "stdout",
     "output_type": "stream",
     "text": [
      "[[ 2  3  4]\n",
      " [ 5  6  7]\n",
      " [ 8  9 10]]\n"
     ]
    }
   ],
   "source": [
    "a =  np.arange(2, 11).reshape(3,3)\n",
    "print(a)"
   ]
  },
  {
   "cell_type": "code",
   "execution_count": 130,
   "id": "532cec54",
   "metadata": {},
   "outputs": [
    {
     "data": {
      "text/plain": [
       "array([0, 0, 0, 0, 5, 0, 0, 0, 0, 0])"
      ]
     },
     "execution_count": 130,
     "metadata": {},
     "output_type": "execute_result"
    }
   ],
   "source": [
    "a"
   ]
  },
  {
   "cell_type": "markdown",
   "id": "9e7b992a",
   "metadata": {},
   "source": [
    "question 10"
   ]
  },
  {
   "cell_type": "code",
   "execution_count": 133,
   "id": "197811a9",
   "metadata": {},
   "outputs": [
    {
     "name": "stdout",
     "output_type": "stream",
     "text": [
      "[1 2 0 0 4 0]\n"
     ]
    }
   ],
   "source": [
    "a= np.array([1,2,0,0,4,0])\n",
    "print(a)"
   ]
  },
  {
   "cell_type": "code",
   "execution_count": 134,
   "id": "00d37784",
   "metadata": {},
   "outputs": [
    {
     "name": "stdout",
     "output_type": "stream",
     "text": [
      "0\n",
      "1\n",
      "4\n"
     ]
    }
   ],
   "source": [
    "for i in range(6) :\n",
    " if a[i]!=0 : \n",
    "    print(i)"
   ]
  },
  {
   "cell_type": "markdown",
   "id": "5c63e5ae",
   "metadata": {},
   "source": [
    "question 11"
   ]
  },
  {
   "cell_type": "code",
   "execution_count": 135,
   "id": "e24c7f09",
   "metadata": {},
   "outputs": [
    {
     "data": {
      "text/plain": [
       "array([[1, 1, 1],\n",
       "       [1, 1, 1],\n",
       "       [1, 1, 1]])"
      ]
     },
     "execution_count": 135,
     "metadata": {},
     "output_type": "execute_result"
    }
   ],
   "source": [
    "np.ones((3,3),dtype='int32')"
   ]
  },
  {
   "cell_type": "code",
   "execution_count": null,
   "id": "ae8f7022",
   "metadata": {},
   "outputs": [],
   "source": [
    "question 12 "
   ]
  },
  {
   "cell_type": "code",
   "execution_count": 136,
   "id": "4e73b428",
   "metadata": {},
   "outputs": [
    {
     "data": {
      "text/plain": [
       "array([[[89, 59,  5],\n",
       "        [36, 60, 78],\n",
       "        [53, 41, 13]],\n",
       "\n",
       "       [[81, 32, 88],\n",
       "        [71, 82, 89],\n",
       "        [92, 64, 38]],\n",
       "\n",
       "       [[74, 30, 48],\n",
       "        [ 2, 45, 72],\n",
       "        [33, 91, 21]]])"
      ]
     },
     "execution_count": 136,
     "metadata": {},
     "output_type": "execute_result"
    }
   ],
   "source": [
    "np.random.randint(0,100,size=(3,3,3))"
   ]
  },
  {
   "cell_type": "markdown",
   "id": "65ebf107",
   "metadata": {},
   "source": [
    "question 13"
   ]
  },
  {
   "cell_type": "code",
   "execution_count": 137,
   "id": "913cad43",
   "metadata": {},
   "outputs": [],
   "source": [
    "d = np.random.random((10,10))"
   ]
  },
  {
   "cell_type": "code",
   "execution_count": 138,
   "id": "eafbf7a2",
   "metadata": {},
   "outputs": [
    {
     "data": {
      "text/plain": [
       "array([[0.83187477, 0.63354375, 0.33255959, 0.90055691, 0.06216638,\n",
       "        0.88174964, 0.53817479, 0.39699252, 0.09647064, 0.09289142],\n",
       "       [0.25252972, 0.04929558, 0.84902121, 0.41715838, 0.43660277,\n",
       "        0.00167866, 0.46472151, 0.60523146, 0.70590169, 0.8836822 ],\n",
       "       [0.08124727, 0.21857416, 0.07104682, 0.23360547, 0.14448104,\n",
       "        0.05057582, 0.71029853, 0.36489492, 0.13313245, 0.35010515],\n",
       "       [0.92370399, 0.87085048, 0.50885075, 0.87448869, 0.10541146,\n",
       "        0.28990865, 0.28985466, 0.52815606, 0.32312474, 0.38932519],\n",
       "       [0.07956662, 0.07610775, 0.56147374, 0.45870593, 0.360509  ,\n",
       "        0.59165387, 0.28619744, 0.41685937, 0.64101457, 0.21778392],\n",
       "       [0.52426666, 0.88570171, 0.09895993, 0.82691923, 0.968039  ,\n",
       "        0.99876399, 0.24386333, 0.7933746 , 0.31011035, 0.02530719],\n",
       "       [0.55902182, 0.00499523, 0.85607062, 0.26921292, 0.95222261,\n",
       "        0.36011886, 0.75345442, 0.46785022, 0.97236762, 0.3606407 ],\n",
       "       [0.55257807, 0.23008861, 0.33406625, 0.81965212, 0.14372459,\n",
       "        0.09008759, 0.68630346, 0.95254979, 0.8512748 , 0.10517447],\n",
       "       [0.54326984, 0.4282762 , 0.42407405, 0.70176404, 0.08424274,\n",
       "        0.05319033, 0.27966305, 0.85787519, 0.61088396, 0.53218641],\n",
       "       [0.65956844, 0.8391114 , 0.06345749, 0.82331924, 0.79654554,\n",
       "        0.95072297, 0.98247178, 0.93360369, 0.9959849 , 0.84336143]])"
      ]
     },
     "execution_count": 138,
     "metadata": {},
     "output_type": "execute_result"
    }
   ],
   "source": [
    " d"
   ]
  },
  {
   "cell_type": "code",
   "execution_count": 139,
   "id": "a46c0278",
   "metadata": {},
   "outputs": [
    {
     "data": {
      "text/plain": [
       "0.9987639920249889"
      ]
     },
     "execution_count": 139,
     "metadata": {},
     "output_type": "execute_result"
    }
   ],
   "source": [
    "numpy.max(d)"
   ]
  },
  {
   "cell_type": "code",
   "execution_count": 31,
   "id": "a790ae0f",
   "metadata": {},
   "outputs": [
    {
     "data": {
      "text/plain": [
       "0.007159498756541316"
      ]
     },
     "execution_count": 31,
     "metadata": {},
     "output_type": "execute_result"
    }
   ],
   "source": [
    "numpy.min(d)"
   ]
  },
  {
   "cell_type": "markdown",
   "id": "65e2f9dd",
   "metadata": {},
   "source": [
    "question 14"
   ]
  },
  {
   "cell_type": "code",
   "execution_count": 141,
   "id": "1c656b73",
   "metadata": {},
   "outputs": [],
   "source": [
    "v = np.random.randint(0,100,size=(30))"
   ]
  },
  {
   "cell_type": "code",
   "execution_count": 142,
   "id": "4af9acef",
   "metadata": {},
   "outputs": [
    {
     "data": {
      "text/plain": [
       "array([31, 84, 80, 36, 46, 36, 53, 68, 54, 52,  9, 43, 34, 80, 20, 77,  1,\n",
       "       75, 43, 33, 79, 14, 90, 63, 16, 80,  7, 92, 43, 13])"
      ]
     },
     "execution_count": 142,
     "metadata": {},
     "output_type": "execute_result"
    }
   ],
   "source": [
    "v"
   ]
  },
  {
   "cell_type": "code",
   "execution_count": 143,
   "id": "4270bc78",
   "metadata": {},
   "outputs": [
    {
     "data": {
      "text/plain": [
       "48.4"
      ]
     },
     "execution_count": 143,
     "metadata": {},
     "output_type": "execute_result"
    }
   ],
   "source": [
    "np.mean(v)"
   ]
  },
  {
   "cell_type": "markdown",
   "id": "e9b6bfd2",
   "metadata": {},
   "source": [
    "question 15"
   ]
  },
  {
   "cell_type": "code",
   "execution_count": 39,
   "id": "5962b230",
   "metadata": {},
   "outputs": [],
   "source": [
    "arr2 = np.ones([1, 0], dtype=int)"
   ]
  },
  {
   "cell_type": "code",
   "execution_count": 40,
   "id": "d484caa6",
   "metadata": {},
   "outputs": [
    {
     "data": {
      "text/plain": [
       "array([], shape=(1, 0), dtype=int32)"
      ]
     },
     "execution_count": 40,
     "metadata": {},
     "output_type": "execute_result"
    }
   ],
   "source": [
    "arr2"
   ]
  },
  {
   "cell_type": "code",
   "execution_count": 42,
   "id": "f3c913f3",
   "metadata": {},
   "outputs": [],
   "source": [
    "x = np.ones((5,5))"
   ]
  },
  {
   "cell_type": "code",
   "execution_count": 43,
   "id": "67db6ba9",
   "metadata": {},
   "outputs": [
    {
     "data": {
      "text/plain": [
       "array([[1., 1., 1., 1., 1.],\n",
       "       [1., 1., 1., 1., 1.],\n",
       "       [1., 1., 1., 1., 1.],\n",
       "       [1., 1., 1., 1., 1.],\n",
       "       [1., 1., 1., 1., 1.]])"
      ]
     },
     "execution_count": 43,
     "metadata": {},
     "output_type": "execute_result"
    }
   ],
   "source": [
    "x"
   ]
  },
  {
   "cell_type": "code",
   "execution_count": 44,
   "id": "798a7c82",
   "metadata": {},
   "outputs": [
    {
     "name": "stdout",
     "output_type": "stream",
     "text": [
      "1 on the border and 0 inside in the array\n"
     ]
    }
   ],
   "source": [
    "print(\"1 on the border and 0 inside in the array\")\n"
   ]
  },
  {
   "cell_type": "code",
   "execution_count": 45,
   "id": "0137568b",
   "metadata": {},
   "outputs": [],
   "source": [
    "x[1:-1,1:-1] = 0"
   ]
  },
  {
   "cell_type": "code",
   "execution_count": 46,
   "id": "10a5b54e",
   "metadata": {},
   "outputs": [
    {
     "data": {
      "text/plain": [
       "array([[1., 1., 1., 1., 1.],\n",
       "       [1., 0., 0., 0., 1.],\n",
       "       [1., 0., 0., 0., 1.],\n",
       "       [1., 0., 0., 0., 1.],\n",
       "       [1., 1., 1., 1., 1.]])"
      ]
     },
     "execution_count": 46,
     "metadata": {},
     "output_type": "execute_result"
    }
   ],
   "source": [
    "x"
   ]
  },
  {
   "cell_type": "code",
   "execution_count": 47,
   "id": "0fd8f82b",
   "metadata": {},
   "outputs": [],
   "source": [
    "x = np.pad(x, pad_width=1, mode='constant', constant_values=0)"
   ]
  },
  {
   "cell_type": "code",
   "execution_count": 49,
   "id": "971ccea7",
   "metadata": {},
   "outputs": [
    {
     "data": {
      "text/plain": [
       "array([[0., 0., 0., 0., 0., 0., 0.],\n",
       "       [0., 1., 1., 1., 1., 1., 0.],\n",
       "       [0., 1., 0., 0., 0., 1., 0.],\n",
       "       [0., 1., 0., 0., 0., 1., 0.],\n",
       "       [0., 1., 0., 0., 0., 1., 0.],\n",
       "       [0., 1., 1., 1., 1., 1., 0.],\n",
       "       [0., 0., 0., 0., 0., 0., 0.]])"
      ]
     },
     "execution_count": 49,
     "metadata": {},
     "output_type": "execute_result"
    }
   ],
   "source": [
    "x"
   ]
  },
  {
   "cell_type": "markdown",
   "id": "d23e62f7",
   "metadata": {},
   "source": [
    "question 16 How to add a border (filled with 0's) around an existing array? "
   ]
  },
  {
   "cell_type": "code",
   "execution_count": 145,
   "id": "e17d3183",
   "metadata": {},
   "outputs": [
    {
     "name": "stdout",
     "output_type": "stream",
     "text": [
      "[[ 39  96  88  80  44  78]\n",
      " [106 165  13  38 143 174]\n",
      " [115  92 118  73  15 147]\n",
      " [ 55 139 195  51 156 180]\n",
      " [198 194  23 161 128 125]\n",
      " [169  33 121  53 101 158]]\n"
     ]
    }
   ],
   "source": [
    "a= np.random.randint(1,200,size=(6,6),dtype='int32')\n",
    "print(a)"
   ]
  },
  {
   "cell_type": "code",
   "execution_count": 146,
   "id": "553ca294",
   "metadata": {},
   "outputs": [
    {
     "name": "stdout",
     "output_type": "stream",
     "text": [
      "[[0. 0. 0. 0.]\n",
      " [0. 0. 0. 0.]\n",
      " [0. 0. 0. 0.]\n",
      " [0. 0. 0. 0.]]\n"
     ]
    }
   ],
   "source": [
    "b=np.zeros((4,4))\n",
    "print(b)"
   ]
  },
  {
   "cell_type": "code",
   "execution_count": 147,
   "id": "f45d783d",
   "metadata": {},
   "outputs": [
    {
     "name": "stdout",
     "output_type": "stream",
     "text": [
      "[[  0   0   0   0   0   0]\n",
      " [  0 165  13  38 143   0]\n",
      " [  0  92 118  73  15   0]\n",
      " [  0 139 195  51 156   0]\n",
      " [  0 194  23 161 128   0]\n",
      " [  0   0   0   0   0   0]]\n"
     ]
    }
   ],
   "source": [
    "a[:,0]= 0; a[0,:]=0;a[-1,:]=0;a[:,-1]=0\n",
    "print(a)"
   ]
  },
  {
   "cell_type": "markdown",
   "id": "49b73647",
   "metadata": {},
   "source": [
    "question 17 "
   ]
  },
  {
   "cell_type": "code",
   "execution_count": 51,
   "id": "6ae15f02",
   "metadata": {},
   "outputs": [
    {
     "data": {
      "text/plain": [
       "False"
      ]
     },
     "execution_count": 51,
     "metadata": {},
     "output_type": "execute_result"
    }
   ],
   "source": [
    " \n",
    "0 * np.nan\n",
    "np.nan == np.nan\n",
    "np.inf > np.nan\n",
    "np.nan - np.nan\n",
    "0.3 == 3 * 0.1"
   ]
  },
  {
   "cell_type": "code",
   "execution_count": 52,
   "id": "5ffbdb05",
   "metadata": {},
   "outputs": [
    {
     "data": {
      "text/plain": [
       "nan"
      ]
     },
     "execution_count": 52,
     "metadata": {},
     "output_type": "execute_result"
    }
   ],
   "source": [
    "0 * np.nan"
   ]
  },
  {
   "cell_type": "code",
   "execution_count": 53,
   "id": "1ed967c2",
   "metadata": {},
   "outputs": [
    {
     "data": {
      "text/plain": [
       "False"
      ]
     },
     "execution_count": 53,
     "metadata": {},
     "output_type": "execute_result"
    }
   ],
   "source": [
    "np.nan == np.nan"
   ]
  },
  {
   "cell_type": "code",
   "execution_count": 56,
   "id": "c230fc16",
   "metadata": {},
   "outputs": [
    {
     "data": {
      "text/plain": [
       "False"
      ]
     },
     "execution_count": 56,
     "metadata": {},
     "output_type": "execute_result"
    }
   ],
   "source": [
    "np.inf > np.nan"
   ]
  },
  {
   "cell_type": "code",
   "execution_count": 55,
   "id": "8a2d5db4",
   "metadata": {},
   "outputs": [
    {
     "data": {
      "text/plain": [
       "nan"
      ]
     },
     "execution_count": 55,
     "metadata": {},
     "output_type": "execute_result"
    }
   ],
   "source": [
    "np.nan - np.nan"
   ]
  },
  {
   "cell_type": "code",
   "execution_count": 57,
   "id": "c0eda09e",
   "metadata": {},
   "outputs": [
    {
     "data": {
      "text/plain": [
       "False"
      ]
     },
     "execution_count": 57,
     "metadata": {},
     "output_type": "execute_result"
    }
   ],
   "source": [
    "0.3 == 3 * 0.1"
   ]
  },
  {
   "cell_type": "markdown",
   "id": "2f127627",
   "metadata": {},
   "source": [
    "question 18"
   ]
  },
  {
   "cell_type": "code",
   "execution_count": 148,
   "id": "8dd6e9c7",
   "metadata": {},
   "outputs": [],
   "source": [
    " x = np.diag([1, 2, 3, 4, 5])"
   ]
  },
  {
   "cell_type": "code",
   "execution_count": 149,
   "id": "54e8128e",
   "metadata": {},
   "outputs": [
    {
     "data": {
      "text/plain": [
       "array([[1, 0, 0, 0, 0],\n",
       "       [0, 2, 0, 0, 0],\n",
       "       [0, 0, 3, 0, 0],\n",
       "       [0, 0, 0, 4, 0],\n",
       "       [0, 0, 0, 0, 5]])"
      ]
     },
     "execution_count": 149,
     "metadata": {},
     "output_type": "execute_result"
    }
   ],
   "source": [
    "x"
   ]
  },
  {
   "cell_type": "markdown",
   "id": "d3912b35",
   "metadata": {},
   "source": [
    "question 19 "
   ]
  },
  {
   "cell_type": "code",
   "execution_count": 60,
   "id": "8f24b5f1",
   "metadata": {},
   "outputs": [
    {
     "name": "stdout",
     "output_type": "stream",
     "text": [
      "Checkerboard pattern:\n",
      "[[0 1 0 1 0 1 0 1]\n",
      " [1 0 1 0 1 0 1 0]\n",
      " [0 1 0 1 0 1 0 1]\n",
      " [1 0 1 0 1 0 1 0]\n",
      " [0 1 0 1 0 1 0 1]\n",
      " [1 0 1 0 1 0 1 0]\n",
      " [0 1 0 1 0 1 0 1]\n",
      " [1 0 1 0 1 0 1 0]]\n"
     ]
    }
   ],
   "source": [
    "x = np.ones((3,3))\n",
    "print(\"Checkerboard pattern:\")\n",
    "x = np.zeros((8,8),dtype=int)\n",
    "x[1::2,::2] = 1\n",
    "x[::2,1::2] = 1\n",
    "print(x)\n"
   ]
  },
  {
   "cell_type": "markdown",
   "id": "502fb1d5",
   "metadata": {},
   "source": [
    "question 20"
   ]
  },
  {
   "cell_type": "code",
   "execution_count": 61,
   "id": "aef9ffa4",
   "metadata": {},
   "outputs": [],
   "source": [
    "a=np.ones((6,7,8))"
   ]
  },
  {
   "cell_type": "code",
   "execution_count": 62,
   "id": "6da5de2b",
   "metadata": {},
   "outputs": [],
   "source": [
    "m=0\n",
    "for x in range(6):\n",
    "  for y in range (7):\n",
    "    for z in range(8):\n",
    "      \n",
    "      if(m==100):\n",
    "       break\n",
    "      m=m+1"
   ]
  },
  {
   "cell_type": "code",
   "execution_count": 63,
   "id": "873f8ad7",
   "metadata": {},
   "outputs": [
    {
     "name": "stdout",
     "output_type": "stream",
     "text": [
      "5 6 0\n"
     ]
    }
   ],
   "source": [
    "print(x,y,z)"
   ]
  },
  {
   "cell_type": "markdown",
   "id": "fd5669a9",
   "metadata": {},
   "source": [
    "question 21"
   ]
  },
  {
   "cell_type": "code",
   "execution_count": 64,
   "id": "19f0076a",
   "metadata": {},
   "outputs": [
    {
     "name": "stdout",
     "output_type": "stream",
     "text": [
      "[[[[[[[[0 1 0 1 0 1 0 1]\n",
      "       [0 1 0 1 0 1 0 1]\n",
      "       [0 1 0 1 0 1 0 1]\n",
      "       [0 1 0 1 0 1 0 1]\n",
      "       [0 1 0 1 0 1 0 1]\n",
      "       [0 1 0 1 0 1 0 1]\n",
      "       [0 1 0 1 0 1 0 1]\n",
      "       [0 1 0 1 0 1 0 1]]]]]]]]\n"
     ]
    }
   ],
   "source": [
    "A = np.array([[[[[[[[0,1],[0,1],[0,1],[0,1],[0,1],[0,1],[0,1],[0,1]]]]]]]])\n",
    "x = np.tile(A,reps=4)\n",
    "print(x)"
   ]
  },
  {
   "cell_type": "markdown",
   "id": "db5677f1",
   "metadata": {},
   "source": [
    "question 22"
   ]
  },
  {
   "cell_type": "code",
   "execution_count": 66,
   "id": "eed42015",
   "metadata": {},
   "outputs": [
    {
     "name": "stdout",
     "output_type": "stream",
     "text": [
      "[[0.10324765 0.25627081 0.58889269 0.21013169 0.84597311]\n",
      " [0.34313509 0.23570257 0.16491871 0.09922089 0.69218996]\n",
      " [0.40367237 0.22087795 0.0982031  0.522402   0.87635136]\n",
      " [0.08702392 0.04989455 0.76608437 0.0172957  0.43972291]\n",
      " [0.82267041 0.07827209 0.4019048  0.26218037 0.62776107]]\n"
     ]
    }
   ],
   "source": [
    "a = np.random.rand(5,5)\n",
    "print(a)"
   ]
  },
  {
   "cell_type": "code",
   "execution_count": 67,
   "id": "3931fe99",
   "metadata": {},
   "outputs": [],
   "source": [
    "min=np.min(a)\n",
    "max=np.max(a)"
   ]
  },
  {
   "cell_type": "code",
   "execution_count": 68,
   "id": "c081109b",
   "metadata": {},
   "outputs": [
    {
     "name": "stdout",
     "output_type": "stream",
     "text": [
      "[[0.10005399 0.2781835  0.66537829 0.22447439 0.96463762]\n",
      " [0.37929951 0.25424066 0.17184336 0.09536657 0.78562343]\n",
      " [0.44976907 0.23698377 0.09418179 0.58797855 1.        ]\n",
      " [0.08116845 0.03794731 0.87164162 0.         0.49173438]\n",
      " [0.93751167 0.07098072 0.44771151 0.28506264 0.71062377]]\n"
     ]
    }
   ],
   "source": [
    "a=(a-min)/(max-min)\n",
    "print(a)"
   ]
  },
  {
   "cell_type": "markdown",
   "id": "1ac10f1e",
   "metadata": {},
   "source": [
    "question 23"
   ]
  },
  {
   "cell_type": "code",
   "execution_count": 69,
   "id": "1c725fd3",
   "metadata": {},
   "outputs": [],
   "source": [
    "arr = np.array(2*4)"
   ]
  },
  {
   "cell_type": "markdown",
   "id": "8938013d",
   "metadata": {},
   "source": [
    " Create an array of 2x4 with dtype numpy.int16, print the dtype of the array (RGBA"
   ]
  },
  {
   "cell_type": "markdown",
   "id": "63d2caad",
   "metadata": {},
   "source": [
    "question 24"
   ]
  },
  {
   "cell_type": "code",
   "execution_count": 72,
   "id": "011e96e5",
   "metadata": {},
   "outputs": [
    {
     "name": "stdout",
     "output_type": "stream",
     "text": [
      "[[0.2532784  0.48805053 0.09446617]\n",
      " [0.23980599 0.57842768 0.37155009]\n",
      " [0.03524081 0.33707924 0.61249435]\n",
      " [0.59442958 0.43482577 0.00554963]\n",
      " [0.78580003 0.91747223 0.65664441]]\n",
      "[[0.37532975 0.28838598]\n",
      " [0.47988687 0.26659921]\n",
      " [0.91414363 0.65526931]]\n"
     ]
    }
   ],
   "source": [
    "a=np.random.rand(5,3);\n",
    "b=np.random.rand(3,2);\n",
    "print(a);\n",
    "print(b)"
   ]
  },
  {
   "cell_type": "code",
   "execution_count": 73,
   "id": "be756aa0",
   "metadata": {},
   "outputs": [
    {
     "data": {
      "text/plain": [
       "array([[0.4156276 , 0.2650566 ],\n",
       "       [0.70723631, 0.46683041],\n",
       "       [0.73489463, 0.50137676],\n",
       "       [0.43684744, 0.29098587],\n",
       "       [1.33548431, 0.90149001]])"
      ]
     },
     "execution_count": 73,
     "metadata": {},
     "output_type": "execute_result"
    }
   ],
   "source": [
    "np.matmul(a,b)"
   ]
  },
  {
   "cell_type": "markdown",
   "id": "afeeb6dc",
   "metadata": {},
   "source": [
    "why using  hint: numpy.dot() ???"
   ]
  },
  {
   "cell_type": "markdown",
   "id": "a404e748",
   "metadata": {},
   "source": [
    "question 25 "
   ]
  },
  {
   "cell_type": "code",
   "execution_count": 74,
   "id": "16e9b4ad",
   "metadata": {},
   "outputs": [
    {
     "name": "stdout",
     "output_type": "stream",
     "text": [
      "[4 9 4 9 3 5 8 3 5 6 2 1 8 9 5 3 2 9 2 2]\n"
     ]
    }
   ],
   "source": [
    "a= np.random.randint(1,10,size=(20,))\n",
    "print(a)"
   ]
  },
  {
   "cell_type": "code",
   "execution_count": 75,
   "id": "82d7ad86",
   "metadata": {},
   "outputs": [],
   "source": [
    "for i in range(20):\n",
    "  if (3<a[i])&(a[i]<8) :\n",
    "    a[i]*=-1"
   ]
  },
  {
   "cell_type": "code",
   "execution_count": 76,
   "id": "c40a5de8",
   "metadata": {},
   "outputs": [
    {
     "name": "stdout",
     "output_type": "stream",
     "text": [
      "[-4  9 -4  9  3 -5  8  3 -5 -6  2  1  8  9 -5  3  2  9  2  2]\n"
     ]
    }
   ],
   "source": [
    "print (a)"
   ]
  },
  {
   "cell_type": "markdown",
   "id": "789838e4",
   "metadata": {},
   "source": [
    "question 26"
   ]
  },
  {
   "cell_type": "code",
   "execution_count": 80,
   "id": "2c48434b",
   "metadata": {},
   "outputs": [
    {
     "name": "stdout",
     "output_type": "stream",
     "text": [
      "10\n",
      "10\n"
     ]
    }
   ],
   "source": [
    "print(sum(range(5),-1))\n",
    "from numpy import *\n",
    "print(sum(range(5),-1))"
   ]
  },
  {
   "cell_type": "markdown",
   "id": "c105a2a9",
   "metadata": {},
   "source": [
    "question 27"
   ]
  },
  {
   "cell_type": "code",
   "execution_count": 81,
   "id": "f677dade",
   "metadata": {},
   "outputs": [
    {
     "ename": "NameError",
     "evalue": "name 'Z' is not defined",
     "output_type": "error",
     "traceback": [
      "\u001b[1;31m--------------------------------------------------------------------------\u001b[0m",
      "\u001b[1;31mNameError\u001b[0m                                Traceback (most recent call last)",
      "Cell \u001b[1;32mIn [81], line 1\u001b[0m\n\u001b[1;32m----> 1\u001b[0m \u001b[43mZ\u001b[49m\u001b[38;5;241m*\u001b[39m\u001b[38;5;241m*\u001b[39mZ\n",
      "\u001b[1;31mNameError\u001b[0m: name 'Z' is not defined"
     ]
    }
   ],
   "source": [
    "Z**Z"
   ]
  },
  {
   "cell_type": "code",
   "execution_count": 84,
   "id": "809ccdf9",
   "metadata": {},
   "outputs": [
    {
     "data": {
      "text/plain": [
       "False"
      ]
     },
     "execution_count": 84,
     "metadata": {},
     "output_type": "execute_result"
    }
   ],
   "source": [
    "5 <- 5\n",
    " "
   ]
  },
  {
   "cell_type": "code",
   "execution_count": 85,
   "id": "5e0f47c7",
   "metadata": {},
   "outputs": [
    {
     "data": {
      "text/plain": [
       "5j"
      ]
     },
     "execution_count": 85,
     "metadata": {},
     "output_type": "execute_result"
    }
   ],
   "source": [
    "1j*5"
   ]
  },
  {
   "cell_type": "code",
   "execution_count": 86,
   "id": "584605c1",
   "metadata": {},
   "outputs": [
    {
     "data": {
      "text/plain": [
       "False"
      ]
     },
     "execution_count": 86,
     "metadata": {},
     "output_type": "execute_result"
    }
   ],
   "source": [
    "5 <- 5"
   ]
  },
  {
   "cell_type": "markdown",
   "id": "e734f6e5",
   "metadata": {},
   "source": [
    "question 28"
   ]
  },
  {
   "cell_type": "code",
   "execution_count": 88,
   "id": "13f42f92",
   "metadata": {},
   "outputs": [
    {
     "name": "stderr",
     "output_type": "stream",
     "text": [
      "C:\\Users\\ambre\\AppData\\Local\\Temp\\ipykernel_20636\\4195017123.py:1: RuntimeWarning: invalid value encountered in divide\n",
      "  np.array(0) / np.array(0)\n"
     ]
    },
    {
     "data": {
      "text/plain": [
       "nan"
      ]
     },
     "execution_count": 88,
     "metadata": {},
     "output_type": "execute_result"
    }
   ],
   "source": [
    "np.array(0) / np.array(0)\n",
    " "
   ]
  },
  {
   "cell_type": "code",
   "execution_count": 90,
   "id": "d8d7053e",
   "metadata": {},
   "outputs": [
    {
     "name": "stderr",
     "output_type": "stream",
     "text": [
      "C:\\Users\\ambre\\AppData\\Local\\Temp\\ipykernel_20636\\2018018105.py:1: RuntimeWarning: divide by zero encountered in floor_divide\n",
      "  np.array(0) // np.array(0)\n"
     ]
    },
    {
     "data": {
      "text/plain": [
       "0"
      ]
     },
     "execution_count": 90,
     "metadata": {},
     "output_type": "execute_result"
    }
   ],
   "source": [
    "np.array(0) // np.array(0)"
   ]
  },
  {
   "cell_type": "markdown",
   "id": "12c5f750",
   "metadata": {},
   "source": [
    "question 29 How to round away from zero a float array ? \n"
   ]
  },
  {
   "cell_type": "code",
   "execution_count": 91,
   "id": "21015576",
   "metadata": {},
   "outputs": [
    {
     "name": "stdout",
     "output_type": "stream",
     "text": [
      "[ 7.72690864 -7.34197024 -3.51871768  4.38520747  6.62212454  6.76786326\n",
      "  6.58357274 -5.30230809  4.92210043 -6.08677857]\n"
     ]
    }
   ],
   "source": [
    "Z = np.random.uniform(-10,+10,10)\n",
    "print(Z)"
   ]
  },
  {
   "cell_type": "code",
   "execution_count": 92,
   "id": "68262a28",
   "metadata": {},
   "outputs": [
    {
     "name": "stdout",
     "output_type": "stream",
     "text": [
      "[ 8. -8. -4.  5.  7.  7.  7. -6.  5. -7.]\n"
     ]
    }
   ],
   "source": [
    "print(np.copysign(np.ceil(np.abs(Z)), Z))"
   ]
  },
  {
   "cell_type": "markdown",
   "id": "a63d72b8",
   "metadata": {},
   "source": [
    "question 30 How to find common values between two arrays?"
   ]
  },
  {
   "cell_type": "code",
   "execution_count": 93,
   "id": "bf993380",
   "metadata": {},
   "outputs": [
    {
     "name": "stdout",
     "output_type": "stream",
     "text": [
      "[4 1 4 3 4 2 1 2 1 9]\n",
      "[6 0 4 1 1 5 7 9 3 7]\n"
     ]
    }
   ],
   "source": [
    "a = np.random.randint(0,10,10)\n",
    "print(a)\n",
    "b = np.random.randint(0,10,10)\n",
    "print(b)"
   ]
  },
  {
   "cell_type": "code",
   "execution_count": 94,
   "id": "c507e7fb",
   "metadata": {},
   "outputs": [
    {
     "name": "stdout",
     "output_type": "stream",
     "text": [
      "[1 3 4 9]\n"
     ]
    }
   ],
   "source": [
    "print(np.intersect1d(a,b))"
   ]
  },
  {
   "cell_type": "markdown",
   "id": "377b71f5",
   "metadata": {},
   "source": [
    "question 31  How to ignore all numpy warnings"
   ]
  },
  {
   "cell_type": "code",
   "execution_count": null,
   "id": "41fc1e38",
   "metadata": {},
   "outputs": [],
   "source": []
  },
  {
   "cell_type": "markdown",
   "id": "0058d8d4",
   "metadata": {},
   "source": [
    "question 32 "
   ]
  },
  {
   "cell_type": "code",
   "execution_count": 96,
   "id": "c4e7ecc9",
   "metadata": {},
   "outputs": [
    {
     "name": "stderr",
     "output_type": "stream",
     "text": [
      "C:\\Users\\ambre\\AppData\\Local\\Temp\\ipykernel_20636\\244602691.py:1: RuntimeWarning: invalid value encountered in sqrt\n",
      "  np.sqrt(-1) == np.emath.sqrt(-1)\n"
     ]
    },
    {
     "data": {
      "text/plain": [
       "False"
      ]
     },
     "execution_count": 96,
     "metadata": {},
     "output_type": "execute_result"
    }
   ],
   "source": [
    "np.sqrt(-1) == np.emath.sqrt(-1)"
   ]
  },
  {
   "cell_type": "markdown",
   "id": "2d511843",
   "metadata": {},
   "source": [
    "question 33  How to get the dates of yesterday, today and tomorrow?"
   ]
  },
  {
   "cell_type": "code",
   "execution_count": 98,
   "id": "ba7ff8d1",
   "metadata": {},
   "outputs": [],
   "source": [
    "yesterday = np.datetime64('today') - np.timedelta64(1)\n",
    "today     = np.datetime64('today')\n",
    "tomorrow  = np.datetime64('today') + np.timedelta64(1)"
   ]
  },
  {
   "cell_type": "code",
   "execution_count": 99,
   "id": "58d20e05",
   "metadata": {},
   "outputs": [
    {
     "name": "stdout",
     "output_type": "stream",
     "text": [
      "2022-11-19 2022-11-20 2022-11-21\n"
     ]
    }
   ],
   "source": [
    "print(yesterday,today,tomorrow)"
   ]
  },
  {
   "cell_type": "markdown",
   "id": "4a9ac17b",
   "metadata": {},
   "source": [
    "question 34 How to get all the dates corresponding to the month of August 2016"
   ]
  },
  {
   "cell_type": "code",
   "execution_count": 100,
   "id": "f73a986c",
   "metadata": {},
   "outputs": [],
   "source": [
    "Z = np.arange('2016-08', '2016-08', dtype='datetime64[D]')"
   ]
  },
  {
   "cell_type": "markdown",
   "id": "f10591d4",
   "metadata": {},
   "source": [
    "question 35 "
   ]
  },
  {
   "cell_type": "code",
   "execution_count": 105,
   "id": "2a936734",
   "metadata": {},
   "outputs": [],
   "source": [
    "A= np.ones(3)*1\n",
    "B= np.ones(3)*2"
   ]
  },
  {
   "cell_type": "markdown",
   "id": "9854456a",
   "metadata": {},
   "source": [
    "we create two array "
   ]
  },
  {
   "cell_type": "markdown",
   "id": "cfdf33ab",
   "metadata": {},
   "source": [
    "we separte in two A+B = B  and A-B =A "
   ]
  },
  {
   "cell_type": "code",
   "execution_count": 106,
   "id": "d057137f",
   "metadata": {},
   "outputs": [
    {
     "data": {
      "text/plain": [
       "array([3., 3., 3.])"
      ]
     },
     "execution_count": 106,
     "metadata": {},
     "output_type": "execute_result"
    }
   ],
   "source": [
    "np.add(A,B,out=B)"
   ]
  },
  {
   "cell_type": "code",
   "execution_count": 107,
   "id": "9bd16622",
   "metadata": {},
   "outputs": [
    {
     "data": {
      "text/plain": [
       "array([0.5, 0.5, 0.5])"
      ]
     },
     "execution_count": 107,
     "metadata": {},
     "output_type": "execute_result"
    }
   ],
   "source": [
    "np.divide(A,2,out=A)"
   ]
  },
  {
   "cell_type": "code",
   "execution_count": 109,
   "id": "eb2b4341",
   "metadata": {},
   "outputs": [
    {
     "data": {
      "text/plain": [
       "array([-1.5, -1.5, -1.5])"
      ]
     },
     "execution_count": 109,
     "metadata": {},
     "output_type": "execute_result"
    }
   ],
   "source": [
    " np.negative(A,out=A)"
   ]
  },
  {
   "cell_type": "code",
   "execution_count": 110,
   "id": "58e13c28",
   "metadata": {},
   "outputs": [
    {
     "data": {
      "text/plain": [
       "array([-4.5, -4.5, -4.5])"
      ]
     },
     "execution_count": 110,
     "metadata": {},
     "output_type": "execute_result"
    }
   ],
   "source": [
    "np.multiply(A,B,out=A)"
   ]
  },
  {
   "cell_type": "markdown",
   "id": "f92e7810",
   "metadata": {},
   "source": [
    "A = A*B"
   ]
  },
  {
   "cell_type": "markdown",
   "id": "3d881dbf",
   "metadata": {},
   "source": [
    "question 36 Extract the integer part of a random array using 5 different methods"
   ]
  },
  {
   "cell_type": "code",
   "execution_count": 152,
   "id": "05fc623e",
   "metadata": {},
   "outputs": [
    {
     "name": "stdout",
     "output_type": "stream",
     "text": [
      "[10  9 24  4 15  7 17 11 13 16]\n"
     ]
    }
   ],
   "source": [
    "a = np.random.randint(1,26,10)\n",
    "print(a)"
   ]
  },
  {
   "cell_type": "code",
   "execution_count": 157,
   "id": "b055e819",
   "metadata": {},
   "outputs": [],
   "source": [
    "condition = np.mod(a, 3) == 0"
   ]
  },
  {
   "cell_type": "code",
   "execution_count": 158,
   "id": "3288b59c",
   "metadata": {},
   "outputs": [
    {
     "data": {
      "text/plain": [
       "array([ 9, 24, 15])"
      ]
     },
     "execution_count": 158,
     "metadata": {},
     "output_type": "execute_result"
    }
   ],
   "source": [
    "np.extract(condition, a)"
   ]
  },
  {
   "cell_type": "markdown",
   "id": "869ec9b9",
   "metadata": {},
   "source": [
    "question 37  Create a 5x5 matrix with row values ranging from 0 to 4 "
   ]
  },
  {
   "cell_type": "code",
   "execution_count": 112,
   "id": "c10b66d2",
   "metadata": {},
   "outputs": [
    {
     "name": "stdout",
     "output_type": "stream",
     "text": [
      "Original array:\n",
      "[[0. 0. 0. 0. 0.]\n",
      " [0. 0. 0. 0. 0.]\n",
      " [0. 0. 0. 0. 0.]\n",
      " [0. 0. 0. 0. 0.]\n",
      " [0. 0. 0. 0. 0.]]\n",
      "Row values ranging from 0 to 4.\n",
      "[[0. 1. 2. 3. 4.]\n",
      " [0. 1. 2. 3. 4.]\n",
      " [0. 1. 2. 3. 4.]\n",
      " [0. 1. 2. 3. 4.]\n",
      " [0. 1. 2. 3. 4.]]\n"
     ]
    }
   ],
   "source": [
    "x = np.zeros((5,5))\n",
    "print(\"Original array:\")\n",
    "print(x)\n",
    "print(\"Row values ranging from 0 to 4.\")\n",
    "x += np.arange(5)\n",
    "print(x)"
   ]
  },
  {
   "cell_type": "markdown",
   "id": "f247929c",
   "metadata": {},
   "source": [
    "question 39  Create a vector of size 10 with values ranging from 0 to 1, both excluded"
   ]
  },
  {
   "cell_type": "code",
   "execution_count": 113,
   "id": "95aba497",
   "metadata": {},
   "outputs": [
    {
     "name": "stdout",
     "output_type": "stream",
     "text": [
      "[0.09090909 0.18181818 0.27272727 0.36363636 0.45454545 0.54545455\n",
      " 0.63636364 0.72727273 0.81818182 0.90909091]\n"
     ]
    }
   ],
   "source": [
    "x = np.linspace(0,1,12,endpoint=True)[1:-1]\n",
    "print(x)"
   ]
  },
  {
   "cell_type": "markdown",
   "id": "139b64c5",
   "metadata": {},
   "source": [
    "question 40 Create a random vector of size 10 and sort it "
   ]
  },
  {
   "cell_type": "code",
   "execution_count": 115,
   "id": "8dd79db3",
   "metadata": {},
   "outputs": [
    {
     "name": "stdout",
     "output_type": "stream",
     "text": [
      "Original array:\n",
      "[9.63432389e-01 8.76958139e-01 4.48773252e-01 3.14561400e-02\n",
      " 7.62646234e-01 1.81319179e-02 3.77444210e-01 1.43091943e-01\n",
      " 2.73455295e-04 6.05124950e-01]\n",
      "Sorted array:\n",
      "[2.73455295e-04 1.81319179e-02 3.14561400e-02 1.43091943e-01\n",
      " 3.77444210e-01 4.48773252e-01 6.05124950e-01 7.62646234e-01\n",
      " 8.76958139e-01 9.63432389e-01]\n"
     ]
    }
   ],
   "source": [
    " \n",
    "x = np.random.random(10)\n",
    "print(\"Original array:\")\n",
    "print(x)\n",
    "x.sort()\n",
    "print(\"Sorted array:\")\n",
    "print(x)"
   ]
  },
  {
   "cell_type": "code",
   "execution_count": null,
   "id": "68ade781",
   "metadata": {},
   "outputs": [],
   "source": []
  }
 ],
 "metadata": {
  "kernelspec": {
   "display_name": "Python 3 (ipykernel)",
   "language": "python",
   "name": "python3"
  },
  "language_info": {
   "codemirror_mode": {
    "name": "ipython",
    "version": 3
   },
   "file_extension": ".py",
   "mimetype": "text/x-python",
   "name": "python",
   "nbconvert_exporter": "python",
   "pygments_lexer": "ipython3",
   "version": "3.11.0"
  }
 },
 "nbformat": 4,
 "nbformat_minor": 5
}
