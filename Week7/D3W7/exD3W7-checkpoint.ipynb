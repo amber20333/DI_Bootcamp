{
 "cells": [
  {
   "cell_type": "code",
   "execution_count": 1,
   "id": "a4377e05",
   "metadata": {},
   "outputs": [],
   "source": [
    "import numpy as np\n",
    " "
   ]
  },
  {
   "cell_type": "markdown",
   "id": "97b79221",
   "metadata": {},
   "source": [
    "question 1 "
   ]
  },
  {
   "cell_type": "code",
   "execution_count": 2,
   "id": "0b76a0c1",
   "metadata": {},
   "outputs": [
    {
     "data": {
      "text/plain": [
       "(100,)"
      ]
     },
     "execution_count": 2,
     "metadata": {},
     "output_type": "execute_result"
    }
   ],
   "source": [
    " x = np.array(range(6,404,4))\n",
    "x.shape"
   ]
  },
  {
   "cell_type": "markdown",
   "id": "a8b50f52",
   "metadata": {},
   "source": [
    "question 2"
   ]
  },
  {
   "cell_type": "code",
   "execution_count": 3,
   "id": "e65386ca",
   "metadata": {},
   "outputs": [
    {
     "data": {
      "text/plain": [
       "array([1., 2., 3., 5., 6., 7.])"
      ]
     },
     "execution_count": 3,
     "metadata": {},
     "output_type": "execute_result"
    }
   ],
   "source": [
    "#2\n",
    "a = np.array([1,2,3,np.nan,5,6,7,np.nan])\n",
    "a = a[~np.isnan(a)]\n",
    "a"
   ]
  },
  {
   "cell_type": "code",
   "execution_count": 4,
   "id": "e8d1140d",
   "metadata": {},
   "outputs": [
    {
     "data": {
      "text/plain": [
       "array([False, False, False, False, False, False])"
      ]
     },
     "execution_count": 4,
     "metadata": {},
     "output_type": "execute_result"
    }
   ],
   "source": [
    "np.isnan(a)"
   ]
  },
  {
   "cell_type": "markdown",
   "id": "a1a0c8f6",
   "metadata": {},
   "source": [
    "question 3 "
   ]
  },
  {
   "cell_type": "code",
   "execution_count": 5,
   "id": "3f215d47",
   "metadata": {},
   "outputs": [
    {
     "data": {
      "text/plain": [
       "array([[54, 26, 44, 21, 18, 86],\n",
       "       [16, 68, 22, 98, 60, 37],\n",
       "       [40, 26, 38, 83, 39, 23],\n",
       "       [29, 39, 79,  8, 34, 33],\n",
       "       [55, 65, 81, 16, 40, 49]])"
      ]
     },
     "execution_count": 5,
     "metadata": {},
     "output_type": "execute_result"
    }
   ],
   "source": [
    "x = np.random.randint(100, size = (5,6))\n",
    "x"
   ]
  },
  {
   "cell_type": "code",
   "execution_count": 6,
   "id": "77402cb2",
   "metadata": {},
   "outputs": [
    {
     "data": {
      "text/plain": [
       "array([86, 98, 83, 79, 81])"
      ]
     },
     "execution_count": 6,
     "metadata": {},
     "output_type": "execute_result"
    }
   ],
   "source": [
    "np.max(x, axis= 1)"
   ]
  },
  {
   "cell_type": "markdown",
   "id": "e0c4cbc3",
   "metadata": {},
   "source": [
    "question 4 "
   ]
  },
  {
   "cell_type": "code",
   "execution_count": 7,
   "id": "574e2398",
   "metadata": {},
   "outputs": [
    {
     "data": {
      "text/plain": [
       "h    38\n",
       "e    38\n",
       "a    35\n",
       "k    35\n",
       "n    33\n",
       "m    33\n",
       "l    32\n",
       "g    32\n",
       "f    31\n",
       "b    30\n",
       "j    29\n",
       "o    29\n",
       "c    28\n",
       "i    27\n",
       "d    26\n",
       "p    24\n",
       "dtype: int64"
      ]
     },
     "execution_count": 7,
     "metadata": {},
     "output_type": "execute_result"
    }
   ],
   "source": [
    "import pandas as pd\n",
    "series = pd.Series(np.take(list('abcdefghijklmnop'), np.random.randint(16, size=500)))\n",
    "pd.unique(series)\n",
    "series.value_counts()"
   ]
  },
  {
   "cell_type": "markdown",
   "id": "7073ef80",
   "metadata": {},
   "source": [
    "question 5 "
   ]
  },
  {
   "cell_type": "code",
   "execution_count": 20,
   "id": "c55867d9",
   "metadata": {},
   "outputs": [],
   "source": [
    "\n",
    "series = pd.Series(['01 Jan 2020', '10-19-2020', '20150303', '2013/04/04', '2012-05-05', '2013-06-06T12:20'])\n",
    "\n"
   ]
  },
  {
   "cell_type": "code",
   "execution_count": 21,
   "id": "10b07177",
   "metadata": {},
   "outputs": [
    {
     "data": {
      "text/plain": [
       "0         01 Jan 2020\n",
       "1          10-19-2020\n",
       "2            20150303\n",
       "3          2013/04/04\n",
       "4          2012-05-05\n",
       "5    2013-06-06T12:20\n",
       "dtype: object"
      ]
     },
     "execution_count": 21,
     "metadata": {},
     "output_type": "execute_result"
    }
   ],
   "source": [
    "series"
   ]
  },
  {
   "cell_type": "code",
   "execution_count": 22,
   "id": "8bc668bf",
   "metadata": {},
   "outputs": [
    {
     "data": {
      "text/plain": [
       "0   2020-01-01 00:00:00\n",
       "1   2020-10-19 00:00:00\n",
       "2   2015-03-03 00:00:00\n",
       "3   2013-04-04 00:00:00\n",
       "4   2012-05-05 00:00:00\n",
       "5   2013-06-06 12:20:00\n",
       "dtype: datetime64[ns]"
      ]
     },
     "execution_count": 22,
     "metadata": {},
     "output_type": "execute_result"
    }
   ],
   "source": [
    "pd.to_datetime(series)"
   ]
  },
  {
   "cell_type": "markdown",
   "id": "7bc237c4",
   "metadata": {},
   "source": [
    "question 6"
   ]
  },
  {
   "cell_type": "code",
   "execution_count": 14,
   "id": "5b508979",
   "metadata": {},
   "outputs": [
    {
     "data": {
      "text/plain": [
       "'Luggage.room'"
      ]
     },
     "execution_count": 14,
     "metadata": {},
     "output_type": "execute_result"
    }
   ],
   "source": [
    "df = pd.read_csv('https://raw.githubusercontent.com/selva86/datasets/master/Cars93_miss.csv')\n",
    "len(pd.unique(df.dtypes))\n",
    "df2 = df.rename(columns={\"Type\": \"TypeOfCar\"})\n",
    "df2.head()\n",
    "df.isnull().sum()\n",
    "df.isnull().sum().idxmax()"
   ]
  },
  {
   "cell_type": "markdown",
   "id": "4da341ed",
   "metadata": {},
   "source": [
    "question 7 "
   ]
  },
  {
   "cell_type": "code",
   "execution_count": null,
   "id": "9c3fb558",
   "metadata": {},
   "outputs": [],
   "source": [
    "new_df = df.drop(columns=['Length', 'EngineSize'])\n",
    "new_df2 = df.drop(['Length', 'EngineSize'], axis=1)\n",
    "new_df2.head()"
   ]
  },
  {
   "cell_type": "markdown",
   "id": "7ca8592e",
   "metadata": {},
   "source": [
    "question 8"
   ]
  },
  {
   "cell_type": "code",
   "execution_count": 15,
   "id": "43c38d0a",
   "metadata": {},
   "outputs": [
    {
     "data": {
      "text/html": [
       "<div>\n",
       "<style scoped>\n",
       "    .dataframe tbody tr th:only-of-type {\n",
       "        vertical-align: middle;\n",
       "    }\n",
       "\n",
       "    .dataframe tbody tr th {\n",
       "        vertical-align: top;\n",
       "    }\n",
       "\n",
       "    .dataframe thead th {\n",
       "        text-align: right;\n",
       "    }\n",
       "</style>\n",
       "<table border=\"1\" class=\"dataframe\">\n",
       "  <thead>\n",
       "    <tr style=\"text-align: right;\">\n",
       "      <th></th>\n",
       "      <th>fruit</th>\n",
       "      <th>weight</th>\n",
       "      <th>price_x</th>\n",
       "      <th>pazham</th>\n",
       "      <th>kilo</th>\n",
       "      <th>price_y</th>\n",
       "    </tr>\n",
       "  </thead>\n",
       "  <tbody>\n",
       "    <tr>\n",
       "      <th>0</th>\n",
       "      <td>apple</td>\n",
       "      <td>high</td>\n",
       "      <td>4</td>\n",
       "      <td>apple</td>\n",
       "      <td>high</td>\n",
       "      <td>0</td>\n",
       "    </tr>\n",
       "    <tr>\n",
       "      <th>1</th>\n",
       "      <td>orange</td>\n",
       "      <td>low</td>\n",
       "      <td>4</td>\n",
       "      <td>orange</td>\n",
       "      <td>low</td>\n",
       "      <td>0</td>\n",
       "    </tr>\n",
       "  </tbody>\n",
       "</table>\n",
       "</div>"
      ],
      "text/plain": [
       "    fruit weight  price_x  pazham  kilo  price_y\n",
       "0   apple   high        4   apple  high        0\n",
       "1  orange    low        4  orange   low        0"
      ]
     },
     "execution_count": 15,
     "metadata": {},
     "output_type": "execute_result"
    }
   ],
   "source": [
    "df1 = pd.DataFrame({'fruit': ['apple', 'banana', 'orange'] * 3,\n",
    "                    'weight': ['high', 'medium', 'low'] * 3,\n",
    "                    'price': np.random.randint(0, 15, 9)})\n",
    "\n",
    "df2 = pd.DataFrame({'pazham': ['apple', 'orange', 'pine'] * 2,\n",
    "                    'kilo': ['high', 'low'] * 3,\n",
    "                    'price': np.random.randint(0, 15, 6)})\n",
    "\n",
    "df1 = df1.drop_duplicates(subset='fruit', keep='first')\n",
    "df2 = df2.drop_duplicates(subset='pazham', keep='first')\n",
    "\n",
    "merged_df = df1.merge(df2, left_on='fruit', right_on='pazham')\n",
    "merged_df"
   ]
  },
  {
   "cell_type": "markdown",
   "id": "522df2c4",
   "metadata": {},
   "source": [
    "question 9 "
   ]
  },
  {
   "cell_type": "code",
   "execution_count": 16,
   "id": "f8f0c82c",
   "metadata": {},
   "outputs": [
    {
     "name": "stdout",
     "output_type": "stream",
     "text": [
      "0 STD       City        State\n",
      "1  33    Kolkata  West Bengal\n",
      "2  44    Chennai   Tamil Nadu\n",
      "3  40  Hyderabad    Telengana\n",
      "4  80  Bangalore    Karnataka\n"
     ]
    }
   ],
   "source": [
    "df = pd.DataFrame([\"STD,City\\tState\",\n",
    "\"33,Kolkata\\tWest Bengal\",\n",
    "\"44,Chennai\\tTamil Nadu\",\n",
    "\"40,Hyderabad\\tTelengana\",\n",
    "\"80,Bangalore\\tKarnataka\"], columns=['row'])\n",
    "df_out = df.row.str.split(',|\\t', expand=True)\n",
    "new_header = df_out.iloc[0]\n",
    "df_out = df_out[1:]\n",
    "df_out.columns = new_header\n",
    "print(df_out)"
   ]
  },
  {
   "cell_type": "markdown",
   "id": "1ceee9d8",
   "metadata": {},
   "source": [
    "question 10 "
   ]
  },
  {
   "cell_type": "markdown",
   "id": "e50e358c",
   "metadata": {},
   "source": [
    "import matplotlib.pyplot as plt\n",
    "names = [\"mpg\", \"cylinders\", \"displacement\", \"horsepower\", \"weight\", \"acceleration\", \"model_year\", \"origin\", \"car_name\"]\n",
    "df_mpg = pd.read_csv(\"auto-mpg.data\", header=None, names=names, delim_whitespace=True)\n",
    "\n",
    "def scatter_plot(df):\n",
    "    plt.scatter(df['displacement'], df['acceleration'])\n",
    "    plt.xlabel('displacement')\n",
    "    plt.ylabel('acceleration')\n",
    "    plt.grid() \n",
    "    plt.show()\n",
    "scatter_plot(df_mpg)"
   ]
  },
  {
   "cell_type": "markdown",
   "id": "42f83ad6",
   "metadata": {},
   "source": [
    "question 11 "
   ]
  },
  {
   "cell_type": "code",
   "execution_count": null,
   "id": "977b8fa9",
   "metadata": {},
   "outputs": [],
   "source": [
    "def bar_plot(df):\n",
    "    x = df[df_mpg.car_name.str.contains('toyota')]\n",
    "    toyota = x[x.model_year == 78].cylinders.mean()\n",
    "    c = df[df.model_year == 78].cylinders.mean()\n",
    "    index = ['toyota_78','rest_78']\n",
    "    cylinders = [toyota, c]\n",
    "    df = pd.DataFrame({'cylinders': cylinders}, index=index)\n",
    "    ax = df.plot.bar(rot=0, figsize=(10,4))\n",
    "bar_plot(df_mpg)"
   ]
  },
  {
   "cell_type": "markdown",
   "id": "47f77296",
   "metadata": {},
   "source": [
    "question 12 "
   ]
  },
  {
   "cell_type": "markdown",
   "id": "20ff4d2a",
   "metadata": {},
   "source": [
    "def line_plot(df):\n",
    "    weight = df[df.car_name.str.contains('toyota')].weight\n",
    "    year = df[df.car_name.str.contains('toyota')].model_year\n",
    "    plt.plot(year, weight)\n",
    "    plt.xlabel('model_year')\n",
    "    plt.ylabel('weight(kg)')\n",
    "    plt.title('toyota weight throughout the years')\n",
    "    plt.show()\n",
    "line_plot(df_mpg)"
   ]
  },
  {
   "cell_type": "markdown",
   "id": "31747fe0",
   "metadata": {},
   "source": [
    "question 13 "
   ]
  },
  {
   "cell_type": "code",
   "execution_count": 18,
   "id": "8338628c",
   "metadata": {},
   "outputs": [
    {
     "ename": "NameError",
     "evalue": "name 'df_mpg' is not defined",
     "output_type": "error",
     "traceback": [
      "\u001b[1;31m---------------------------------------------------------------------------\u001b[0m",
      "\u001b[1;31mNameError\u001b[0m                                 Traceback (most recent call last)",
      "Cell \u001b[1;32mIn [18], line 8\u001b[0m\n\u001b[0;32m      6\u001b[0m     df \u001b[38;5;241m=\u001b[39m pd\u001b[38;5;241m.\u001b[39mDataFrame({\u001b[38;5;124m'\u001b[39m\u001b[38;5;124macceleration\u001b[39m\u001b[38;5;124m'\u001b[39m: acc}, index\u001b[38;5;241m=\u001b[39mindex)\n\u001b[0;32m      7\u001b[0m     ax \u001b[38;5;241m=\u001b[39m df\u001b[38;5;241m.\u001b[39mplot\u001b[38;5;241m.\u001b[39mbar(rot\u001b[38;5;241m=\u001b[39m\u001b[38;5;241m0\u001b[39m)\n\u001b[1;32m----> 8\u001b[0m bar_plot_acc(\u001b[43mdf_mpg\u001b[49m)\n",
      "\u001b[1;31mNameError\u001b[0m: name 'df_mpg' is not defined"
     ]
    }
   ],
   "source": [
    "def bar_plot_acc(df):\n",
    "    average_acc_70 = df[df.model_year == 78].acceleration.mean()\n",
    "    average_acc_82 = df[df.model_year == 82].acceleration.mean()\n",
    "    index = ['average acceleration 78','average acceleration 82']\n",
    "    acc = [average_acc_70, average_acc_82]\n",
    "    df = pd.DataFrame({'acceleration': acc}, index=index)\n",
    "    ax = df.plot.bar(rot=0)\n",
    "bar_plot_acc(df_mpg)"
   ]
  },
  {
   "cell_type": "code",
   "execution_count": null,
   "id": "36faba69",
   "metadata": {},
   "outputs": [],
   "source": []
  }
 ],
 "metadata": {
  "kernelspec": {
   "display_name": "Python 3 (ipykernel)",
   "language": "python",
   "name": "python3"
  },
  "language_info": {
   "codemirror_mode": {
    "name": "ipython",
    "version": 3
   },
   "file_extension": ".py",
   "mimetype": "text/x-python",
   "name": "python",
   "nbconvert_exporter": "python",
   "pygments_lexer": "ipython3",
   "version": "3.11.0"
  }
 },
 "nbformat": 4,
 "nbformat_minor": 5
}
