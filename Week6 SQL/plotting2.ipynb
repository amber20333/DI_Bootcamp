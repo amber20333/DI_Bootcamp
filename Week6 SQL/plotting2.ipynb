{
 "cells": [
  {
   "cell_type": "code",
   "execution_count": 1,
   "id": "01342960",
   "metadata": {},
   "outputs": [],
   "source": [
    "import pandas as pd\n",
    "import matplotlib.pyplot as plt "
   ]
  },
  {
   "cell_type": "code",
   "execution_count": 2,
   "id": "db82ddb2",
   "metadata": {},
   "outputs": [],
   "source": [
    "df = pd.read_csv('https://raw.githubusercontent.com/mwaskom/seaborn-data/master/iris.csv')"
   ]
  },
  {
   "cell_type": "code",
   "execution_count": 3,
   "id": "946c063f",
   "metadata": {},
   "outputs": [],
   "source": [
    "# Separate the different groups in the data\n",
    "\n",
    "# get all rows for setosa\n",
    "setosa = df[df['species'] == 'setosa']\n",
    "\n",
    "# get all rows for versicolor\n",
    "versicolor = df[df['species'] == 'versicolor']\n",
    "\n",
    "# get all rows for virginica\n",
    "virginica = df[df['species'] == 'virginica']"
   ]
  },
  {
   "cell_type": "code",
   "execution_count": 7,
   "id": "c7e95133",
   "metadata": {},
   "outputs": [
    {
     "data": {
      "image/png": "[encoded data removed]",
      "text/plain": [
       "<Figure size 1224x504 with 2 Axes>"
      ]
     },
     "metadata": {
      "needs_background": "light"
     },
     "output_type": "display_data"
    }
   ],
   "source": [
    "# Figure with 2 subplots/axis - 2 plots next to each other on the same row\n",
    "figure, ax = plt.subplots(nrows=1, ncols=2)\n",
    "figure.set_size_inches(17, 7)"
   ]
  },
  {
   "cell_type": "code",
   "execution_count": 8,
   "id": "14a35d0a",
   "metadata": {},
   "outputs": [
    {
     "data": {
      "text/plain": [
       "array([<AxesSubplot:>, <AxesSubplot:>], dtype=object)"
      ]
     },
     "execution_count": 8,
     "metadata": {},
     "output_type": "execute_result"
    }
   ],
   "source": [
    "ax"
   ]
  },
  {
   "cell_type": "code",
   "execution_count": 9,
   "id": "2b61dc57",
   "metadata": {},
   "outputs": [
    {
     "data": {
      "text/plain": [
       "2"
      ]
     },
     "execution_count": 9,
     "metadata": {},
     "output_type": "execute_result"
    }
   ],
   "source": [
    "len(ax)"
   ]
  },
  {
   "cell_type": "code",
   "execution_count": 10,
   "id": "d68f0603",
   "metadata": {},
   "outputs": [
    {
     "data": {
      "text/plain": [
       "<AxesSubplot:>"
      ]
     },
     "execution_count": 10,
     "metadata": {},
     "output_type": "execute_result"
    }
   ],
   "source": [
    "# 1st ax\n",
    "ax[0]"
   ]
  },
  {
   "cell_type": "code",
   "execution_count": 11,
   "id": "34d5e066",
   "metadata": {},
   "outputs": [
    {
     "data": {
      "text/plain": [
       "<AxesSubplot:>"
      ]
     },
     "execution_count": 11,
     "metadata": {},
     "output_type": "execute_result"
    }
   ],
   "source": [
    "# 2nd ax\n",
    "ax[1]"
   ]
  },
  {
   "cell_type": "code",
   "execution_count": null,
   "id": "41f7ffdf",
   "metadata": {},
   "outputs": [],
   "source": [
    "# Plot the Petal info \n",
    "ax[0].scatter(x = setosa['petal_length'], y = setosa['petal_width'], label = \"Setosa\")\n",
    "ax[0].scatter(x = versicolor['petal_length'], y = versicolor['petal_width'], label = \"Versicolor\")\n",
    "ax[0].scatter(x = virginica['petal_length'], y = virginica['petal_width'], label = \"Virginica\")\n",
    "\n"
   ]
  }
 ],
 "metadata": {
  "kernelspec": {
   "display_name": "Python 3 (ipykernel)",
   "language": "python",
   "name": "python3"
  },
  "language_info": {
   "codemirror_mode": {
    "name": "ipython",
    "version": 3
   },
   "file_extension": ".py",
   "mimetype": "text/x-python",
   "name": "python",
   "nbconvert_exporter": "python",
   "pygments_lexer": "ipython3",
   "version": "3.9.12"
  }
 },
 "nbformat": 4,
 "nbformat_minor": 5
}
